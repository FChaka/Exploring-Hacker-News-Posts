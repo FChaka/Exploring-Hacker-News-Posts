{
 "cells": [
  {
   "cell_type": "markdown",
   "metadata": {
    "collapsed": true
   },
   "source": [
    "# Exploring Hacker News Posts\n",
    "\n",
    "In this project we'll work with a dataset of submissions to popular technology site [Hacker News](https://news.ycombinator.com/)\n",
    "\n",
    "Hacker News is a site where user-submitted stories (known as \"posts\") receive votes and comments, similar to reddit. Hacker News is extremely popular in technology and startup circles, and posts that make it to the top of the Hacker News listings can get hundreds of thousands of visitors as a result.\n",
    "\n",
    "For this project, we're specifically interested in posts with titles that begin with either `Ask HN` or `Show HN`. Users submit `Ask HN` posts to ask the Hacker News community a specific question. Likewise, users submit `Show HN` posts to show the Hacker News community a project, product, or just something interesting. \n",
    "\n",
    "Our aim is to determine: \n",
    "- Do `Ask HN` or `Show HN` receive more comments on average?\n",
    "- Do posts created at a certain time receive more comments on average? "
   ]
  },
  {
   "cell_type": "markdown",
   "metadata": {},
   "source": [
    "# Introduction \n",
    "\n",
    "We'll start by reading the data and removing the headers."
   ]
  },
  {
   "cell_type": "code",
   "execution_count": 2,
   "metadata": {},
   "outputs": [
    {
     "name": "stdout",
     "output_type": "stream",
     "text": [
      "['id', 'title', 'url', 'num_points', 'num_comments', 'author', 'created_at']\n",
      "\n",
      "\n",
      "['12224879', 'Interactive Dynamic Video', 'http://www.interactivedynamicvideo.com/', '386', '52', 'ne0phyte', '8/4/2016 11:52']\n",
      "\n",
      "\n",
      "['10975351', 'How to Use Open Source and Shut the Fuck Up at the Same Time', 'http://hueniverse.com/2016/01/26/how-to-use-open-source-and-shut-the-fuck-up-at-the-same-time/', '39', '10', 'josep2', '1/26/2016 19:30']\n",
      "\n",
      "\n",
      "['11964716', \"Florida DJs May Face Felony for April Fools' Water Joke\", 'http://www.thewire.com/entertainment/2013/04/florida-djs-april-fools-water-joke/63798/', '2', '1', 'vezycash', '6/23/2016 22:20']\n",
      "\n",
      "\n",
      "['11919867', 'Technology ventures: From Idea to Enterprise', 'https://www.amazon.com/Technology-Ventures-Enterprise-Thomas-Byers/dp/0073523429', '3', '1', 'hswarna', '6/17/2016 0:01']\n",
      "\n",
      "\n",
      "['10301696', 'Note by Note: The Making of Steinway L1037 (2007)', 'http://www.nytimes.com/2007/11/07/movies/07stein.html?_r=0', '8', '2', 'walterbell', '9/30/2015 4:12']\n",
      "\n",
      "\n"
     ]
    }
   ],
   "source": [
    "from csv import reader\n",
    "\n",
    "opened_file = open('hacker_news.csv')\n",
    "read_file = reader(opened_file)\n",
    "hn = list(read_file)\n",
    "headers = hn[0]\n",
    "hn = hn[1:]\n",
    "\n",
    "print(headers)\n",
    "print('\\n')\n",
    "for row in hn[:5]:\n",
    "    print(row)\n",
    "    print('\\n')"
   ]
  },
  {
   "cell_type": "markdown",
   "metadata": {},
   "source": [
    "# Filtering Our Data\n",
    "\n",
    "Now, as we're only concerned with the post titles with `Ask HN` OR `Show HN`, we'll create new lists of lists containing just the data for those titles. "
   ]
  },
  {
   "cell_type": "code",
   "execution_count": 3,
   "metadata": {},
   "outputs": [
    {
     "name": "stdout",
     "output_type": "stream",
     "text": [
      "1744\n",
      "1162\n",
      "17194\n"
     ]
    }
   ],
   "source": [
    "ask_posts = []\n",
    "show_posts = []\n",
    "other_posts = []\n",
    "\n",
    "for row in hn:\n",
    "    title = row[1]\n",
    "    if title.lower().startswith('ask hn'):\n",
    "        ask_posts.append(row)\n",
    "    elif title.lower().startswith('show hn'):\n",
    "        show_posts.append(row)\n",
    "    else:\n",
    "        other_posts.append(row)\n",
    "        \n",
    "print(len(ask_posts))\n",
    "print(len(show_posts))\n",
    "print(len(other_posts))"
   ]
  },
  {
   "cell_type": "markdown",
   "metadata": {},
   "source": [
    "After filtering our data, we can see that there are exactly 1744 `Ask HN` posts, 1162 `Show HN` posts, and 17194 other posts that do not belong to any of the previous groups."
   ]
  },
  {
   "cell_type": "markdown",
   "metadata": {},
   "source": [
    "# Calculating the Average Number of Comments for Ask HN and Show HN posts\n",
    "\n",
    "Now that we grouped the ask posts and show posts on different lists, we'll calculate the average number of comments each type of posts receives."
   ]
  },
  {
   "cell_type": "code",
   "execution_count": 4,
   "metadata": {},
   "outputs": [
    {
     "name": "stdout",
     "output_type": "stream",
     "text": [
      "14.038417431192661\n",
      "10.31669535283993\n"
     ]
    }
   ],
   "source": [
    "#Calculating the average number of comments for Ask Posts\n",
    "total_ask_comments = 0\n",
    "\n",
    "for post in ask_posts:\n",
    "    num_comments = int(post[4])\n",
    "    total_ask_comments += num_comments\n",
    "    \n",
    "avg_ask_comments = total_ask_comments / len(ask_posts)\n",
    "print(avg_ask_comments)\n",
    "\n",
    "\n",
    "#Calculating the average number of comments for Show Posts\n",
    "total_show_comments = 0\n",
    "\n",
    "for post in show_posts:\n",
    "    num_comments = int(post[4])\n",
    "    total_show_comments += num_comments\n",
    "    \n",
    "avg_show_comments = total_show_comments /len(show_posts)\n",
    "print(avg_show_comments)\n",
    "\n",
    "\n",
    "\n",
    "\n",
    "    "
   ]
  },
  {
   "cell_type": "markdown",
   "metadata": {},
   "source": [
    "Here we see that `Ask HN` posts receive more comments, around 14, on average contrary to `Show HN` posts that actually receive approximately 10 comments. Having this in mind, now we'll focus the rest of our analysis on just these kind of posts (`Ask HN` posts)"
   ]
  },
  {
   "cell_type": "markdown",
   "metadata": {},
   "source": [
    "# Finding the Amount of Ask Posts and Comments by Hour Created\n",
    "\n",
    "Next, we'll determine if ask posts created at a certain time are more likely to attract comments. We'll use the following steps to perform this analysis:\n",
    "- Calculate the number of ask posts created in each hour of the day, along with the number of comments received.\n",
    "- Calculate the average number of comments ask posts receive by hour created.\n",
    "\n",
    "We start with the implementation of the first step:"
   ]
  },
  {
   "cell_type": "code",
   "execution_count": 5,
   "metadata": {},
   "outputs": [
    {
     "data": {
      "text/plain": [
       "{'09': 251,\n",
       " '13': 1253,\n",
       " '10': 793,\n",
       " '14': 1416,\n",
       " '16': 1814,\n",
       " '23': 543,\n",
       " '12': 687,\n",
       " '17': 1146,\n",
       " '15': 4477,\n",
       " '21': 1745,\n",
       " '20': 1722,\n",
       " '02': 1381,\n",
       " '18': 1439,\n",
       " '03': 421,\n",
       " '05': 464,\n",
       " '19': 1188,\n",
       " '01': 683,\n",
       " '22': 479,\n",
       " '08': 492,\n",
       " '04': 337,\n",
       " '00': 447,\n",
       " '06': 397,\n",
       " '07': 267,\n",
       " '11': 641}"
      ]
     },
     "execution_count": 5,
     "metadata": {},
     "output_type": "execute_result"
    }
   ],
   "source": [
    "import datetime as dt\n",
    "\n",
    "result_list = []\n",
    "\n",
    "for post in ask_posts:\n",
    "    result_list.append(\n",
    "        [post[6], int(post[4])]\n",
    "    )\n",
    "\n",
    "comments_by_hour = {}\n",
    "counts_by_hour = {}\n",
    "\n",
    "for each_row in result_list:\n",
    "    date = each_row[0]\n",
    "    comment = each_row[1]\n",
    "    time = dt.datetime.strptime(date, \"%m/%d/%Y %H:%M\")\n",
    "    time = time.strftime(\"%H\")\n",
    "    if time in counts_by_hour:\n",
    "        comments_by_hour[time] += comment\n",
    "        counts_by_hour[time] += 1\n",
    "    else:\n",
    "        comments_by_hour[time] = comment\n",
    "        counts_by_hour[time] = 1\n",
    "\n",
    "comments_by_hour\n"
   ]
  },
  {
   "cell_type": "markdown",
   "metadata": {},
   "source": [
    "Next, we'll use these two dictionaries `counts_per_hour` & `comments_per_hour` to calculate the average number of comments for posts created during each hour of the day.\n",
    "\n"
   ]
  },
  {
   "cell_type": "code",
   "execution_count": 6,
   "metadata": {},
   "outputs": [
    {
     "name": "stdout",
     "output_type": "stream",
     "text": [
      "[['09', 5.5777777777777775], ['13', 14.741176470588234], ['10', 13.440677966101696], ['14', 13.233644859813085], ['16', 16.796296296296298], ['23', 7.985294117647059], ['12', 9.41095890410959], ['17', 11.46], ['15', 38.5948275862069], ['21', 16.009174311926607], ['20', 21.525], ['02', 23.810344827586206], ['18', 13.20183486238532], ['03', 7.796296296296297], ['05', 10.08695652173913], ['19', 10.8], ['01', 11.383333333333333], ['22', 6.746478873239437], ['08', 10.25], ['04', 7.170212765957447], ['00', 8.127272727272727], ['06', 9.022727272727273], ['07', 7.852941176470588], ['11', 11.051724137931034]]\n"
     ]
    }
   ],
   "source": [
    "avg_by_hour = []\n",
    "\n",
    "for row in comments_by_hour:\n",
    "    avg_by_hour.append([row, comments_by_hour[row]/counts_by_hour[row]])\n",
    "                        \n",
    "print(avg_by_hour)"
   ]
  },
  {
   "cell_type": "markdown",
   "metadata": {},
   "source": [
    "Though we have the data we need, this format makes it difficult to identify the hours with the highest values. So, we'll finish this by sorting the list of lists and printing the five highest values in a format that easier to read\n"
   ]
  },
  {
   "cell_type": "code",
   "execution_count": 7,
   "metadata": {},
   "outputs": [
    {
     "name": "stdout",
     "output_type": "stream",
     "text": [
      "[[38.5948275862069, '15'], [23.810344827586206, '02'], [21.525, '20'], [16.796296296296298, '16'], [16.009174311926607, '21'], [14.741176470588234, '13'], [13.440677966101696, '10'], [13.233644859813085, '14'], [13.20183486238532, '18'], [11.46, '17'], [11.383333333333333, '01'], [11.051724137931034, '11'], [10.8, '19'], [10.25, '08'], [10.08695652173913, '05'], [9.41095890410959, '12'], [9.022727272727273, '06'], [8.127272727272727, '00'], [7.985294117647059, '23'], [7.852941176470588, '07'], [7.796296296296297, '03'], [7.170212765957447, '04'], [6.746478873239437, '22'], [5.5777777777777775, '09']]\n"
     ]
    }
   ],
   "source": [
    "swap_avg_by_hour = []\n",
    "\n",
    "for row in avg_by_hour:\n",
    "    swap_avg_by_hour.append([row[1], row[0]])\n",
    "    \n",
    "# print(swap_avg_by_hour)\n",
    "\n",
    "sorted_swap = sorted(swap_avg_by_hour, reverse=True)\n",
    "\n",
    "print(sorted_swap)"
   ]
  },
  {
   "cell_type": "code",
   "execution_count": 62,
   "metadata": {},
   "outputs": [
    {
     "name": "stdout",
     "output_type": "stream",
     "text": [
      "Top 5 Hours for 'Ask HN' Comments\n",
      "15:00: 38.59 average comments per post\n",
      "02:00: 23.81 average comments per post\n",
      "20:00: 21.52 average comments per post\n",
      "16:00: 16.80 average comments per post\n",
      "21:00: 16.01 average comments per post\n"
     ]
    }
   ],
   "source": [
    "# Sort the values and print the the 5 hours with the highest average comments.\n",
    "\n",
    "print(\"Top 5 Hours for 'Ask HN' Comments\")\n",
    "for avg_comments, hour in sorted_swap[:5]:\n",
    "    print(\n",
    "        '{}: {:.2f} average comments per post'.format(\n",
    "            dt.datetime.strptime(hour, \"%H\").strftime('%H:%M'), avg_comments\n",
    "        )\n",
    "    )"
   ]
  },
  {
   "cell_type": "markdown",
   "metadata": {},
   "source": [
    "The hour that receives the most comments per post on average is 15:00, with an average of 38.59 comments per post. There's about a 60% increase in the number of comments between the hours with the highest and second highest average number of comments."
   ]
  },
  {
   "cell_type": "markdown",
   "metadata": {},
   "source": [
    "# Calculating the average number of points for Ask HN posts and Show HN posts\n",
    "\n",
    "As an extra analysis, we decided to count the number of points, whether `Ask HN` or `Show HN`posts receive more points on average, and do posts created at a certain time receive more points on average.\n",
    "\n",
    "The number of points in the dataset represent the calculated result of the total number of upvotes a post receive minus the total number of downvotes."
   ]
  },
  {
   "cell_type": "code",
   "execution_count": 27,
   "metadata": {},
   "outputs": [
    {
     "name": "stdout",
     "output_type": "stream",
     "text": [
      "15.061926605504587\n",
      "27.555077452667813\n"
     ]
    }
   ],
   "source": [
    "#Calculating the average number of points for Ask Posts\n",
    "total_ask_points = 0\n",
    "\n",
    "for post in ask_posts:\n",
    "    num_of_points = int(post[3])\n",
    "    total_ask_points += num_of_points\n",
    "    \n",
    "avg_ask_points = total_ask_points / len(ask_posts)\n",
    "print(avg_ask_points)\n",
    "\n",
    "\n",
    "\n",
    "#Calculating the average number of points for Show Posts\n",
    "total_show_points = 0\n",
    "\n",
    "for post in show_posts:\n",
    "    num_of_points = int(post[3])\n",
    "    total_show_points += num_of_points\n",
    "    \n",
    "avg_show_points = total_show_points / len(show_posts)\n",
    "print(avg_show_points)"
   ]
  },
  {
   "cell_type": "markdown",
   "metadata": {},
   "source": [
    "Here we see that `Show HN` posts receive more points, around 27.56, on average contrary to `Ask HN` posts that actually receive approximately 15 points. Now, just like the previous example with the comments, we'll focus the rest of our analysis on just these kind of posts (`Show HN` posts)"
   ]
  },
  {
   "cell_type": "markdown",
   "metadata": {},
   "source": [
    "# Finding the Amount of Show Posts and Points by Hour Created\n",
    "\n",
    "Next, we'll determine if show posts created at a certain time are more likely to receive more points. We'll use the following steps to perform our analysis:\n",
    " - Calculate the number of show posts created in each hour of the day, along with the number of points received.\n",
    " - Calculate the average number of points that show posts receive by hour created.\n",
    " \n",
    "We start with the implementation of the first step:"
   ]
  },
  {
   "cell_type": "code",
   "execution_count": 44,
   "metadata": {},
   "outputs": [
    {
     "data": {
      "text/plain": [
       "{'14': 2187,\n",
       " '22': 1856,\n",
       " '18': 2215,\n",
       " '07': 494,\n",
       " '20': 1819,\n",
       " '05': 104,\n",
       " '16': 2634,\n",
       " '19': 1702,\n",
       " '15': 2228,\n",
       " '03': 679,\n",
       " '17': 2521,\n",
       " '06': 375,\n",
       " '02': 340,\n",
       " '13': 2438,\n",
       " '08': 519,\n",
       " '21': 866,\n",
       " '04': 386,\n",
       " '11': 1480,\n",
       " '12': 2543,\n",
       " '23': 1526,\n",
       " '09': 553,\n",
       " '01': 700,\n",
       " '10': 681,\n",
       " '00': 1173}"
      ]
     },
     "execution_count": 44,
     "metadata": {},
     "output_type": "execute_result"
    }
   ],
   "source": [
    "result_list = []\n",
    "\n",
    "for post in show_posts:\n",
    "    result_list.append([post[6], int(post[3])])\n",
    "    \n",
    "    \n",
    "points_by_hour = {}\n",
    "counts_by_hour = {}\n",
    "\n",
    "for row in result_list:\n",
    "    date = row[0]\n",
    "    points = row[1]\n",
    "    \n",
    "    time = dt.datetime.strptime(date, '%m/%d/%Y %H:%M')\n",
    "    time = time.strftime('%H')\n",
    "    \n",
    "    if time not in counts_by_hour:\n",
    "        counts_by_hour[time] = 1\n",
    "        points_by_hour[time] = points\n",
    "    \n",
    "    else:\n",
    "        counts_by_hour[time] += 1\n",
    "        points_by_hour[time] += points\n",
    "        \n",
    "points_by_hour\n",
    "    "
   ]
  },
  {
   "cell_type": "markdown",
   "metadata": {},
   "source": [
    "Next, we'll use these two dictionaries `counts_per_hour` and `points_per_hour` to calculate the average number of points for posts created during each hour of the day."
   ]
  },
  {
   "cell_type": "code",
   "execution_count": 51,
   "metadata": {},
   "outputs": [
    {
     "name": "stdout",
     "output_type": "stream",
     "text": [
      "[['14', 25.430232558139537], ['22', 40.34782608695652], ['18', 36.31147540983606], ['07', 19.0], ['20', 30.316666666666666], ['05', 5.473684210526316], ['16', 28.322580645161292], ['19', 30.945454545454545], ['15', 28.564102564102566], ['03', 25.14814814814815], ['17', 27.107526881720432], ['06', 23.4375], ['02', 11.333333333333334], ['13', 24.626262626262626], ['08', 15.264705882352942], ['21', 18.425531914893618], ['04', 14.846153846153847], ['11', 33.63636363636363], ['12', 41.68852459016394], ['23', 42.388888888888886], ['09', 18.433333333333334], ['01', 25.0], ['10', 18.916666666666668], ['00', 37.83870967741935]]\n"
     ]
    }
   ],
   "source": [
    "avg_points_by_hour = []\n",
    "\n",
    "for hr in points_by_hour:\n",
    "    avg_points_by_hour.append([hr, points_by_hour[hr] / counts_by_hour[hr]])\n",
    "    \n",
    "print(avg_points_by_hour)"
   ]
  },
  {
   "cell_type": "markdown",
   "metadata": {},
   "source": [
    "As a final step we'll finish by sorting the list of lists and printing the five highest values in a format that easier to read"
   ]
  },
  {
   "cell_type": "code",
   "execution_count": 52,
   "metadata": {},
   "outputs": [
    {
     "name": "stdout",
     "output_type": "stream",
     "text": [
      "[['23', 42.388888888888886], ['22', 40.34782608695652], ['21', 18.425531914893618], ['20', 30.316666666666666], ['19', 30.945454545454545], ['18', 36.31147540983606], ['17', 27.107526881720432], ['16', 28.322580645161292], ['15', 28.564102564102566], ['14', 25.430232558139537], ['13', 24.626262626262626], ['12', 41.68852459016394], ['11', 33.63636363636363], ['10', 18.916666666666668], ['09', 18.433333333333334], ['08', 15.264705882352942], ['07', 19.0], ['06', 23.4375], ['05', 5.473684210526316], ['04', 14.846153846153847], ['03', 25.14814814814815], ['02', 11.333333333333334], ['01', 25.0], ['00', 37.83870967741935]]\n"
     ]
    }
   ],
   "source": [
    "sorted_avg_points_by_hour = sorted(avg_points_by_hour, reverse=True)\n",
    "print(sorted_avg_points_by_hour)"
   ]
  },
  {
   "cell_type": "code",
   "execution_count": 54,
   "metadata": {},
   "outputs": [
    {
     "name": "stdout",
     "output_type": "stream",
     "text": [
      "Top 5 Hours for 'Show HN' Points\n",
      "23:00: 42.39 average points per post\n",
      "22:00: 40.35 average points per post\n",
      "21:00: 18.43 average points per post\n",
      "20:00: 30.32 average points per post\n",
      "19:00: 30.95 average points per post\n"
     ]
    }
   ],
   "source": [
    "#Print the 5 hours with the highest average points.\n",
    "\n",
    "print(\"Top 5 Hours for 'Show HN' Points\")\n",
    "for hour, avg_points in sorted_avg_points_by_hour[:5]:\n",
    "    print(\n",
    "        '{}: {:.2f} average points per post'.format(\n",
    "            dt.datetime.strptime(hour, \"%H\").strftime('%H:%M'), avg_points\n",
    "        )\n",
    "    )"
   ]
  },
  {
   "cell_type": "markdown",
   "metadata": {},
   "source": [
    "The hour that receives the most points per post on average is 23:00, with an average of 42.39 points per post."
   ]
  },
  {
   "cell_type": "markdown",
   "metadata": {},
   "source": [
    "# Conclusion\n",
    "\n",
    "In this project, we analyzed ask posts and show posts to determine which type of post and time receive the most comments and points on average. \n",
    "\n",
    "Based on our analysis, to maximize the amount of comments that a post receives, we'd recommend the post be categorized as `Ask HN` post and created between 15:00 and 16:00 (3:00 pm est - 4:00 pm est).\n",
    "\n",
    "Whereas, as for the amount of points that a post receives, the post is recommended to be under the `Show HN` post category and created between 19:00 and 23:00 (7:00 pm est - 11:00 pm est).\n"
   ]
  }
 ],
 "metadata": {
  "kernelspec": {
   "display_name": "Python 3",
   "language": "python",
   "name": "python3"
  },
  "language_info": {
   "codemirror_mode": {
    "name": "ipython",
    "version": 3
   },
   "file_extension": ".py",
   "mimetype": "text/x-python",
   "name": "python",
   "nbconvert_exporter": "python",
   "pygments_lexer": "ipython3",
   "version": "3.8.2"
  }
 },
 "nbformat": 4,
 "nbformat_minor": 2
}
